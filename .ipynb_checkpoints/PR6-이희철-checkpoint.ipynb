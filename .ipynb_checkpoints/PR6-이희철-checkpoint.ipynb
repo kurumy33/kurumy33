{
 "cells": [
  {
   "cell_type": "code",
   "execution_count": 7,
   "id": "7f7b80d2",
   "metadata": {},
   "outputs": [
    {
     "name": "stdout",
     "output_type": "stream",
     "text": [
      "{0: 'Ajou', 1: 'University', 2: 'and', 3: 'Business', 4: 'School'}\n"
     ]
    }
   ],
   "source": [
    "d1={i:j for i,j in enumerate(\"Ajou University and Business School\".split())}\n",
    "print(d1)"
   ]
  },
  {
   "cell_type": "code",
   "execution_count": 13,
   "id": "ffcf2544",
   "metadata": {},
   "outputs": [
    {
     "name": "stdout",
     "output_type": "stream",
     "text": [
      "[(1, 10, 100), (2, 20, 200), (3, 30, 300)]\n",
      "[111, 222, 333]\n"
     ]
    }
   ],
   "source": [
    "a1=[1,2,3]\n",
    "b1=[10,20,30]\n",
    "c1=[100,200,300]\n",
    "\n",
    "print(list(zip(a1,b1,c1)))\n",
    "\n",
    "d2=[sum(x) for x in zip(a1,b1,c1)]   #병렬로 더해라!\n",
    "print(d2)"
   ]
  },
  {
   "cell_type": "code",
   "execution_count": 36,
   "id": "0f73b51d",
   "metadata": {},
   "outputs": [
    {
     "name": "stdout",
     "output_type": "stream",
     "text": [
      "[111, 222, 333]\n"
     ]
    }
   ],
   "source": [
    "m1=[[1,2,3],[10,20,30],[100,200,300]]  #위에꺼보다 이형태를 많이씀\n",
    "m2=[sum(x) for x in zip(*m1)]         #2차원데이터를 가져와서 한번에 변환\n",
    "print(m2)"
   ]
  },
  {
   "cell_type": "code",
   "execution_count": 33,
   "id": "afbaabb4",
   "metadata": {},
   "outputs": [
    {
     "data": {
      "text/plain": [
       "[('a', 6),\n",
       " ('d', 5),\n",
       " ('s', 4),\n",
       " ('g', 4),\n",
       " ('h', 4),\n",
       " ('k', 3),\n",
       " ('t', 3),\n",
       " ('e', 3),\n",
       " ('w', 3),\n",
       " ('u', 2),\n",
       " ('f', 2),\n",
       " ('p', 1),\n",
       " ('y', 1),\n",
       " (',', 1),\n",
       " ('n', 1),\n",
       " ('l', 1),\n",
       " ('o', 1),\n",
       " ('r', 1),\n",
       " ('q', 1)]"
      ]
     },
     "execution_count": 33,
     "metadata": {},
     "output_type": "execute_result"
    }
   ],
   "source": [
    "st=\"adkassudgktepdytdasghd,ganewltuaewhgkfoarqwhfsh\"\n",
    "dict_ch={}\n",
    "\n",
    "for ch in st:\n",
    "    dict_ch[ch]=dict_ch.get(ch,0)+1\n",
    "dict_ch\n",
    "sorted_dict_ch = sorted(list(dict_ch.items()),key=lambda x:x[1],reverse=True)\n",
    "sorted_dict_ch"
   ]
  }
 ],
 "metadata": {
  "kernelspec": {
   "display_name": "Python 3 (ipykernel)",
   "language": "python",
   "name": "python3"
  },
  "language_info": {
   "codemirror_mode": {
    "name": "ipython",
    "version": 3
   },
   "file_extension": ".py",
   "mimetype": "text/x-python",
   "name": "python",
   "nbconvert_exporter": "python",
   "pygments_lexer": "ipython3",
   "version": "3.9.7"
  }
 },
 "nbformat": 4,
 "nbformat_minor": 5
}
