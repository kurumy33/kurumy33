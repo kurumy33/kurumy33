{
 "cells": [
  {
   "cell_type": "markdown",
   "id": "69ab0131",
   "metadata": {},
   "source": [
    "## PR3-이희철"
   ]
  },
  {
   "cell_type": "code",
   "execution_count": 3,
   "id": "171ae1a8",
   "metadata": {},
   "outputs": [],
   "source": [
    "a=[1,2,3]  #LIST는 [ ]사용, 값이 변함"
   ]
  },
  {
   "cell_type": "code",
   "execution_count": 4,
   "id": "1fb83289",
   "metadata": {},
   "outputs": [],
   "source": [
    "b=(1,2,3)  #튜플은 ( ) 사용, 값을 바꿀수없다"
   ]
  },
  {
   "cell_type": "code",
   "execution_count": 5,
   "id": "ed2ff374",
   "metadata": {},
   "outputs": [],
   "source": [
    "a[0]=2"
   ]
  },
  {
   "cell_type": "code",
   "execution_count": 6,
   "id": "cba7ff02",
   "metadata": {},
   "outputs": [
    {
     "ename": "TypeError",
     "evalue": "'tuple' object does not support item assignment",
     "output_type": "error",
     "traceback": [
      "\u001b[1;31m---------------------------------------------------------------------------\u001b[0m",
      "\u001b[1;31mTypeError\u001b[0m                                 Traceback (most recent call last)",
      "\u001b[1;32m~\\AppData\\Local\\Temp/ipykernel_11712/311867996.py\u001b[0m in \u001b[0;36m<module>\u001b[1;34m\u001b[0m\n\u001b[1;32m----> 1\u001b[1;33m \u001b[0mb\u001b[0m\u001b[1;33m[\u001b[0m\u001b[1;36m0\u001b[0m\u001b[1;33m]\u001b[0m\u001b[1;33m=\u001b[0m\u001b[1;36m1\u001b[0m\u001b[1;33m\u001b[0m\u001b[1;33m\u001b[0m\u001b[0m\n\u001b[0m",
      "\u001b[1;31mTypeError\u001b[0m: 'tuple' object does not support item assignment"
     ]
    }
   ],
   "source": [
    "b[0]=1   #튜플b의 값변경시 에러가 발생함"
   ]
  },
  {
   "cell_type": "code",
   "execution_count": 9,
   "id": "fb94cf93",
   "metadata": {},
   "outputs": [
    {
     "name": "stdout",
     "output_type": "stream",
     "text": [
      "(2, 3)\n",
      "(1, 2, 3)\n"
     ]
    }
   ],
   "source": [
    "print(b[1:])\n",
    "print(b)"
   ]
  },
  {
   "cell_type": "code",
   "execution_count": 10,
   "id": "e9ee3212",
   "metadata": {},
   "outputs": [],
   "source": [
    "dic={'a':10,'b':20,'c':30}   #dictionary 각각의 이름에 값을 부여함"
   ]
  },
  {
   "cell_type": "code",
   "execution_count": 11,
   "id": "ae743186",
   "metadata": {},
   "outputs": [
    {
     "data": {
      "text/plain": [
       "{'a': 10, 'b': 20, 'c': 30}"
      ]
     },
     "execution_count": 11,
     "metadata": {},
     "output_type": "execute_result"
    }
   ],
   "source": [
    "dic"
   ]
  },
  {
   "cell_type": "code",
   "execution_count": 13,
   "id": "651eb288",
   "metadata": {},
   "outputs": [
    {
     "name": "stdout",
     "output_type": "stream",
     "text": [
      "10\n"
     ]
    }
   ],
   "source": [
    "print(dic['a'])  #list는 순서가 의미있으나, 딕셔너리는 순서가 의미없음"
   ]
  },
  {
   "cell_type": "code",
   "execution_count": 14,
   "id": "a12f4ecc",
   "metadata": {},
   "outputs": [
    {
     "data": {
      "text/plain": [
       "{'a': 10, 'b': 20, 'c': 30, 'd': 40}"
      ]
     },
     "execution_count": 14,
     "metadata": {},
     "output_type": "execute_result"
    }
   ],
   "source": [
    "dic['d']=40    # d=40추가 가능\n",
    "dic"
   ]
  },
  {
   "cell_type": "code",
   "execution_count": 15,
   "id": "ed923615",
   "metadata": {},
   "outputs": [
    {
     "data": {
      "text/plain": [
       "{'a': 30, 'b': 20, 'c': 30, 'd': 40}"
      ]
     },
     "execution_count": 15,
     "metadata": {},
     "output_type": "execute_result"
    }
   ],
   "source": [
    "dic['a']=30   #a값을 30으로 바꿔라\n",
    "dic"
   ]
  },
  {
   "cell_type": "code",
   "execution_count": 16,
   "id": "e504ac4f",
   "metadata": {},
   "outputs": [
    {
     "data": {
      "text/plain": [
       "{'a': 30, 'b': 20, 'c': 30, 'd': 40, 'e': [1, 2]}"
      ]
     },
     "execution_count": 16,
     "metadata": {},
     "output_type": "execute_result"
    }
   ],
   "source": [
    "dic['e']=[1,2]  #키의 값을 바꿀수는 있지만, 키 자체는 변경불가\n",
    "dic"
   ]
  },
  {
   "cell_type": "code",
   "execution_count": 17,
   "id": "51eea4dc",
   "metadata": {},
   "outputs": [
    {
     "ename": "TypeError",
     "evalue": "unhashable type: 'list'",
     "output_type": "error",
     "traceback": [
      "\u001b[1;31m---------------------------------------------------------------------------\u001b[0m",
      "\u001b[1;31mTypeError\u001b[0m                                 Traceback (most recent call last)",
      "\u001b[1;32m~\\AppData\\Local\\Temp/ipykernel_11712/766340074.py\u001b[0m in \u001b[0;36m<module>\u001b[1;34m\u001b[0m\n\u001b[1;32m----> 1\u001b[1;33m \u001b[0mk\u001b[0m\u001b[1;33m=\u001b[0m\u001b[1;33m{\u001b[0m\u001b[1;33m[\u001b[0m\u001b[1;36m1\u001b[0m\u001b[1;33m,\u001b[0m\u001b[1;36m2\u001b[0m\u001b[1;33m]\u001b[0m\u001b[1;33m:\u001b[0m\u001b[1;34m'hi'\u001b[0m\u001b[1;33m}\u001b[0m\u001b[1;33m\u001b[0m\u001b[1;33m\u001b[0m\u001b[0m\n\u001b[0m",
      "\u001b[1;31mTypeError\u001b[0m: unhashable type: 'list'"
     ]
    }
   ],
   "source": [
    "k={[1,2]:'hi'}   #앞자리(키)에 리스트사용불가"
   ]
  },
  {
   "cell_type": "code",
   "execution_count": 22,
   "id": "0409a636",
   "metadata": {},
   "outputs": [
    {
     "data": {
      "text/plain": [
       "{(1, 2): 1}"
      ]
     },
     "execution_count": 22,
     "metadata": {},
     "output_type": "execute_result"
    }
   ],
   "source": [
    "k={(1,2):1}   #앞자리(키)에 튜플은 사용가능\n",
    "k"
   ]
  },
  {
   "cell_type": "code",
   "execution_count": 20,
   "id": "81605b81",
   "metadata": {},
   "outputs": [
    {
     "data": {
      "text/plain": [
       "('yes', 'y', '예', 'OK')"
      ]
     },
     "execution_count": 20,
     "metadata": {},
     "output_type": "execute_result"
    }
   ],
   "source": [
    "'yes','y',\"예\",\"OK\""
   ]
  },
  {
   "cell_type": "code",
   "execution_count": 27,
   "id": "0c5a5255",
   "metadata": {},
   "outputs": [
    {
     "name": "stdout",
     "output_type": "stream",
     "text": [
      "[1, 0, 0, 1, 0, 0, 1, 0, 0, 1, 0, 0, 1, 0, 0]\n"
     ]
    }
   ],
   "source": [
    "a=['yes','no','no','yes','no','no','yes','no','no','yes','no','no','yes','no','no']          ###외워라!!!\n",
    "d={'yes':1,'no':0}\n",
    "new_a=[d[key] for key in a]   #a에 있는 키의 값을 d의 키 값으로 바꿔라\n",
    "print(new_a)"
   ]
  },
  {
   "cell_type": "markdown",
   "id": "b04cbdf8",
   "metadata": {},
   "source": [
    "### ※ 데이터분석 프로그래밍(전처리 필수) = 테블로 or 코딩 or 엑셀의 신"
   ]
  },
  {
   "cell_type": "code",
   "execution_count": 28,
   "id": "63c7e1e8",
   "metadata": {},
   "outputs": [
    {
     "data": {
      "text/plain": [
       "{'b': 20, 'c': 30, 'd': 40, 'e': [1, 2]}"
      ]
     },
     "execution_count": 28,
     "metadata": {},
     "output_type": "execute_result"
    }
   ],
   "source": [
    "del dic['a']\n",
    "dic"
   ]
  },
  {
   "cell_type": "code",
   "execution_count": 30,
   "id": "22ca4da8",
   "metadata": {},
   "outputs": [
    {
     "data": {
      "text/plain": [
       "{1: 'b'}"
      ]
     },
     "execution_count": 30,
     "metadata": {},
     "output_type": "execute_result"
    }
   ],
   "source": [
    "a={1:'a',1:'b'}\n",
    "a"
   ]
  },
  {
   "cell_type": "code",
   "execution_count": 31,
   "id": "79dd9a8a",
   "metadata": {},
   "outputs": [
    {
     "data": {
      "text/plain": [
       "dict_keys(['b', 'c', 'd', 'e'])"
      ]
     },
     "execution_count": 31,
     "metadata": {},
     "output_type": "execute_result"
    }
   ],
   "source": [
    "dic.keys()"
   ]
  },
  {
   "cell_type": "code",
   "execution_count": 32,
   "id": "d84046f8",
   "metadata": {},
   "outputs": [
    {
     "data": {
      "text/plain": [
       "dict_values([20, 30, 40, [1, 2]])"
      ]
     },
     "execution_count": 32,
     "metadata": {},
     "output_type": "execute_result"
    }
   ],
   "source": [
    "dic.values()"
   ]
  },
  {
   "cell_type": "code",
   "execution_count": 34,
   "id": "1ebbbacd",
   "metadata": {},
   "outputs": [
    {
     "data": {
      "text/plain": [
       "dict_items([('b', 20), ('c', 30), ('d', 40), ('e', [1, 2])])"
      ]
     },
     "execution_count": 34,
     "metadata": {},
     "output_type": "execute_result"
    }
   ],
   "source": [
    "dic.items()   #리스트로 바꿔준다"
   ]
  },
  {
   "cell_type": "code",
   "execution_count": 35,
   "id": "411f5564",
   "metadata": {},
   "outputs": [
    {
     "data": {
      "text/plain": [
       "{'b': 20, 'c': 30, 'd': 40, 'e': [1, 2]}"
      ]
     },
     "execution_count": 35,
     "metadata": {},
     "output_type": "execute_result"
    }
   ],
   "source": [
    "dic   #요건 듀플!"
   ]
  },
  {
   "cell_type": "markdown",
   "id": "be64e6b4",
   "metadata": {},
   "source": [
    "### ※ 집합   \n",
    "### 집합에 관련된 것들을 쉽게 처리하기 위해 만들어진 자료형\n",
    "### 중복을 허용하지 않는다\n",
    "### 순서가 없다"
   ]
  },
  {
   "cell_type": "code",
   "execution_count": 42,
   "id": "bf8768d1",
   "metadata": {},
   "outputs": [
    {
     "data": {
      "text/plain": [
       "{1, 2, 3, 4, 5}"
      ]
     },
     "execution_count": 42,
     "metadata": {},
     "output_type": "execute_result"
    }
   ],
   "source": [
    "c=[1,2,3,4,3,2,3,4,3,5]\n",
    "d=set(c)\n",
    "d"
   ]
  },
  {
   "cell_type": "code",
   "execution_count": 43,
   "id": "410c75d9",
   "metadata": {},
   "outputs": [
    {
     "ename": "SyntaxError",
     "evalue": "invalid syntax (Temp/ipykernel_11712/2469860055.py, line 2)",
     "output_type": "error",
     "traceback": [
      "\u001b[1;36m  File \u001b[1;32m\"C:\\Users\\kurum\\AppData\\Local\\Temp/ipykernel_11712/2469860055.py\"\u001b[1;36m, line \u001b[1;32m2\u001b[0m\n\u001b[1;33m    s1&s2 교집합\u001b[0m\n\u001b[1;37m          ^\u001b[0m\n\u001b[1;31mSyntaxError\u001b[0m\u001b[1;31m:\u001b[0m invalid syntax\n"
     ]
    }
   ],
   "source": [
    "s1=set([])\n",
    "s1&s2 교집합\n",
    "s1|s2 합집합\n",
    "s1-s2 차집합\n",
    "s1.difference(s2) 차집합\n",
    "s1.add(4) 추가할때\n",
    "remove  제거\n",
    "## 집합은 필요할때 찾아봐라~~"
   ]
  },
  {
   "cell_type": "code",
   "execution_count": 48,
   "id": "3484a303",
   "metadata": {},
   "outputs": [
    {
     "name": "stdout",
     "output_type": "stream",
     "text": [
      "False\n"
     ]
    }
   ],
   "source": [
    "a=4\n",
    "print(a>=5)   ## 참이면 True, 거짓이면 False"
   ]
  },
  {
   "cell_type": "code",
   "execution_count": 47,
   "id": "2b7bb82d",
   "metadata": {},
   "outputs": [],
   "source": [
    "if a>5:\n",
    "    print(a)"
   ]
  },
  {
   "cell_type": "code",
   "execution_count": 49,
   "id": "fa315577",
   "metadata": {},
   "outputs": [
    {
     "name": "stdout",
     "output_type": "stream",
     "text": [
      "5\n"
     ]
    }
   ],
   "source": [
    "while a==4:\n",
    "    a=a+1\n",
    "    print(a)"
   ]
  },
  {
   "cell_type": "code",
   "execution_count": 50,
   "id": "4cfa47f7",
   "metadata": {},
   "outputs": [
    {
     "name": "stdout",
     "output_type": "stream",
     "text": [
      "6\n",
      "7\n",
      "8\n",
      "9\n",
      "10\n"
     ]
    }
   ],
   "source": [
    "while a<10:\n",
    "    a=a+1\n",
    "    print(a)"
   ]
  },
  {
   "cell_type": "code",
   "execution_count": 53,
   "id": "b413cc7b",
   "metadata": {},
   "outputs": [
    {
     "name": "stdout",
     "output_type": "stream",
     "text": [
      "[1, 2, 3, 4]\n",
      "[1, 2, 3]\n",
      "[1, 2]\n",
      "[1]\n"
     ]
    }
   ],
   "source": [
    "a=[1,2,3,4]\n",
    "while a:        #빈리스트=거짓일때까지\n",
    "    print(a)\n",
    "    a.pop()"
   ]
  },
  {
   "cell_type": "markdown",
   "id": "931a144d",
   "metadata": {},
   "source": [
    "## ※ mutable 객체, immutable객체\n",
    "값을 변경가능한 것, 값을 변경불가능한 것"
   ]
  },
  {
   "cell_type": "code",
   "execution_count": 55,
   "id": "0029f851",
   "metadata": {},
   "outputs": [
    {
     "name": "stdout",
     "output_type": "stream",
     "text": [
      "2\n",
      "1\n"
     ]
    }
   ],
   "source": [
    "x=1\n",
    "y=2\n",
    "y=x\n",
    "x=y+1\n",
    "print(x)\n",
    "print(y)"
   ]
  },
  {
   "cell_type": "code",
   "execution_count": 60,
   "id": "23b19d98",
   "metadata": {},
   "outputs": [
    {
     "name": "stdout",
     "output_type": "stream",
     "text": [
      "[1, 100, 3] [1, 100, 3]\n"
     ]
    }
   ],
   "source": [
    "x=[1,2,3]   ##리스트는 메모리를 공유하는 구조임. 파이썬만 유일한 장점!\n",
    "y=x\n",
    "x[1]=100\n",
    "print(x,y)"
   ]
  },
  {
   "cell_type": "markdown",
   "id": "273e463a",
   "metadata": {},
   "source": [
    "### 조건문(if), 반복문(for)"
   ]
  },
  {
   "cell_type": "code",
   "execution_count": 62,
   "id": "a0cc7b4a",
   "metadata": {},
   "outputs": [
    {
     "ename": "SyntaxError",
     "evalue": "invalid syntax (Temp/ipykernel_11712/3904512169.py, line 1)",
     "output_type": "error",
     "traceback": [
      "\u001b[1;36m  File \u001b[1;32m\"C:\\Users\\kurum\\AppData\\Local\\Temp/ipykernel_11712/3904512169.py\"\u001b[1;36m, line \u001b[1;32m1\u001b[0m\n\u001b[1;33m    if (x==3){\u001b[0m\n\u001b[1;37m             ^\u001b[0m\n\u001b[1;31mSyntaxError\u001b[0m\u001b[1;31m:\u001b[0m invalid syntax\n"
     ]
    }
   ],
   "source": [
    "if (x==3){\n",
    "    print\n",
    "}"
   ]
  },
  {
   "cell_type": "code",
   "execution_count": 65,
   "id": "22c938ad",
   "metadata": {},
   "outputs": [
    {
     "name": "stdout",
     "output_type": "stream",
     "text": [
      "택시를 탄다\n"
     ]
    }
   ],
   "source": [
    "money=True\n",
    "if money:\n",
    "    print(\"택시를 탄다\")\n",
    "else:\n",
    "    print(\"걸어간다\")"
   ]
  },
  {
   "cell_type": "code",
   "execution_count": 73,
   "id": "72c9a5e9",
   "metadata": {},
   "outputs": [
    {
     "name": "stdout",
     "output_type": "stream",
     "text": [
      "택시를 타지않는다\n",
      "택시를 타거나 말거나\n"
     ]
    }
   ],
   "source": [
    "money=False\n",
    "if money:\n",
    "    print(\"택시를 탄다\")\n",
    "else:\n",
    "    print(\"택시를 타지않는다\")  \n",
    "print(\"택시를 타거나 말거나\")   # 들여쓰기하면 if의 조건문, but 들여쓰기 안하면 if의 조건문이 아님"
   ]
  },
  {
   "cell_type": "code",
   "execution_count": 77,
   "id": "0d1af395",
   "metadata": {},
   "outputs": [
    {
     "name": "stdout",
     "output_type": "stream",
     "text": [
      "걸어가\n"
     ]
    }
   ],
   "source": [
    "money=2000\n",
    "if money>=3000:\n",
    "    print(\"택시타\")\n",
    "else:\n",
    "    print(\"걸어가\")"
   ]
  },
  {
   "cell_type": "code",
   "execution_count": 81,
   "id": "3afd1b77",
   "metadata": {},
   "outputs": [
    {
     "name": "stdout",
     "output_type": "stream",
     "text": [
      "택시\n"
     ]
    }
   ],
   "source": [
    "money=2000\n",
    "card=1\n",
    "if money>=3000 or card:\n",
    "    print(\"택시\")\n",
    "else:\n",
    "    print(\"걷기\")"
   ]
  },
  {
   "cell_type": "code",
   "execution_count": 88,
   "id": "856b8e7d",
   "metadata": {},
   "outputs": [
    {
     "name": "stdout",
     "output_type": "stream",
     "text": [
      "card\n"
     ]
    }
   ],
   "source": [
    "pocket=['paper','callphone']          #pocket=['paper','callphone','money']\n",
    "if 'money' in pocket:\n",
    "    print(\"택시\")                     #아무것도 안할때는 pass\n",
    "elif card:\n",
    "    print(\"card\")\n",
    "else:\n",
    "    print(\"걷기\")"
   ]
  },
  {
   "cell_type": "code",
   "execution_count": 91,
   "id": "b4d31f9b",
   "metadata": {},
   "outputs": [
    {
     "name": "stdout",
     "output_type": "stream",
     "text": [
      "택시\n",
      "card\n"
     ]
    }
   ],
   "source": [
    "pocket=['paper','callphone','money']          #pocket=['paper','callphone','money']\n",
    "if 'money' in pocket:\n",
    "    print(\"택시\")                     \n",
    "if card:                                # 위의 if와 상관없이 if문이 다시 시작하는 결과!\n",
    "    print(\"card\")\n",
    "else:\n",
    "    print(\"걷기\")"
   ]
  },
  {
   "cell_type": "code",
   "execution_count": 97,
   "id": "28435973",
   "metadata": {},
   "outputs": [
    {
     "name": "stdout",
     "output_type": "stream",
     "text": [
      "A\n"
     ]
    }
   ],
   "source": [
    "score=85\n",
    "if score>80:\n",
    "    print(\"A\")\n",
    "elif score>70:\n",
    "    print(\"B\")\n",
    "else:\n",
    "    print(\"F\")"
   ]
  },
  {
   "cell_type": "code",
   "execution_count": 100,
   "id": "fcdca00f",
   "metadata": {},
   "outputs": [
    {
     "name": "stdout",
     "output_type": "stream",
     "text": [
      "A\n"
     ]
    }
   ],
   "source": [
    "score=85\n",
    "if score>70:       #문법적 오류(syntex error)는 아니지만, \n",
    "    print(\"B\")     #논리적 오류(semantic error, logical error)임\n",
    "elif score>80:\n",
    "    print(\"A\")\n",
    "else:\n",
    "    print(\"F\")"
   ]
  },
  {
   "cell_type": "code",
   "execution_count": 99,
   "id": "f9d6e937",
   "metadata": {},
   "outputs": [
    {
     "name": "stdout",
     "output_type": "stream",
     "text": [
      "B\n",
      "A\n"
     ]
    }
   ],
   "source": [
    "score=85\n",
    "if score>70:\n",
    "    print(\"B\")\n",
    "if score>80:\n",
    "    print(\"A\")\n",
    "else:\n",
    "    print(\"F\")"
   ]
  },
  {
   "cell_type": "code",
   "execution_count": 102,
   "id": "45be126c",
   "metadata": {},
   "outputs": [
    {
     "name": "stdout",
     "output_type": "stream",
     "text": [
      "SUCCESS\n"
     ]
    }
   ],
   "source": [
    "message=\"SUCCESS\" if score>=60 else \"failure\"  #값입력시 한줄로도 쓸수있다!\n",
    "print(message)"
   ]
  },
  {
   "cell_type": "markdown",
   "id": "541ac569",
   "metadata": {},
   "source": [
    "## for, while"
   ]
  },
  {
   "cell_type": "code",
   "execution_count": 104,
   "id": "bbbdfe9f",
   "metadata": {},
   "outputs": [
    {
     "name": "stdout",
     "output_type": "stream",
     "text": [
      "나무를 0찍습니다\n",
      "나무를 1찍습니다\n",
      "나무를 2찍습니다\n",
      "나무를 3찍습니다\n",
      "나무를 4찍습니다\n"
     ]
    }
   ],
   "source": [
    "t=0\n",
    "while t<10:                       #종료조건을 벗어나게하는것이 매우 중요!\n",
    "    print(\"나무를 %d찍습니다\"%t)\n",
    "    t=t+1\n",
    "    if t==5:\n",
    "        break"
   ]
  },
  {
   "cell_type": "code",
   "execution_count": 105,
   "id": "09f6ee0d",
   "metadata": {},
   "outputs": [
    {
     "name": "stdout",
     "output_type": "stream",
     "text": [
      "5\n"
     ]
    }
   ],
   "source": [
    "print(t)"
   ]
  },
  {
   "cell_type": "code",
   "execution_count": 106,
   "id": "ee610721",
   "metadata": {},
   "outputs": [
    {
     "name": "stdout",
     "output_type": "stream",
     "text": [
      "1\n",
      "2\n",
      "3\n"
     ]
    }
   ],
   "source": [
    "a=[1,2,3]\n",
    "for i in a:            # 정확한 대상이 있을경우 for를 사용하라!\n",
    "    print(i)"
   ]
  },
  {
   "cell_type": "code",
   "execution_count": 107,
   "id": "59d681ba",
   "metadata": {},
   "outputs": [
    {
     "name": "stdout",
     "output_type": "stream",
     "text": [
      "3\n",
      "7\n",
      "11\n"
     ]
    }
   ],
   "source": [
    "a=[(1,2),(3,4),(5,6)]\n",
    "for (i,j) in a:\n",
    "    print(i+j)"
   ]
  },
  {
   "cell_type": "code",
   "execution_count": 111,
   "id": "7bd0557f",
   "metadata": {},
   "outputs": [
    {
     "name": "stdout",
     "output_type": "stream",
     "text": [
      "0번 학생은 합격입니다\n",
      "1번 학생은 합격입니다\n",
      "2번 학생은 불합격입니다\n",
      "3번 학생은 합격입니다\n",
      "4번 학생은 불합격입니다\n"
     ]
    }
   ],
   "source": [
    "score=[100,80,50,70,59]\n",
    "n=0\n",
    "\n",
    "for i in score:\n",
    "    if i>=60:\n",
    "        print(\"%d번 학생은 합격입니다\"%n)\n",
    "    else:\n",
    "        print(\"%d번 학생은 불합격입니다\"%n)\n",
    "    n=n+1"
   ]
  },
  {
   "cell_type": "markdown",
   "id": "96e79fc7",
   "metadata": {},
   "source": [
    "## 점프투파이썬 검색해서 봐라~\n",
    "### https://wikidocs.net/book/1"
   ]
  },
  {
   "cell_type": "code",
   "execution_count": 114,
   "id": "99b9040e",
   "metadata": {},
   "outputs": [
    {
     "name": "stdout",
     "output_type": "stream",
     "text": [
      "1번 학생은 합격입니다\n",
      "2번 학생은 합격입니다\n",
      "4번 학생은 합격입니다\n"
     ]
    }
   ],
   "source": [
    "score=[100,80,50,70,59]\n",
    "n=0\n",
    "\n",
    "for i in score:\n",
    "    n=n+1\n",
    "    if i<60: continue\n",
    "    print(\"%d번 학생은 합격입니다\"%n)   #이 형태는 잘 안쓴다!\n",
    "    "
   ]
  },
  {
   "cell_type": "code",
   "execution_count": 141,
   "id": "214cfa2e",
   "metadata": {},
   "outputs": [
    {
     "name": "stdout",
     "output_type": "stream",
     "text": [
      "0학생은 합격입니다\n",
      "1학생은 합격입니다\n",
      "2학생은 불합격입니다\n",
      "3학생은 합격입니다\n",
      "4학생은 불합격입니다\n"
     ]
    }
   ],
   "source": [
    "for i in range(len(score)):               #이형태를 훨씬더 많이쓴다 2\n",
    "    if score[i]>=60:                        ###외워라\n",
    "        print(\"%d학생은 합격입니다\"%i)\n",
    "    else:\n",
    "        print(\"%d학생은 불합격입니다\"%i)"
   ]
  },
  {
   "cell_type": "code",
   "execution_count": 138,
   "id": "f05a7c98",
   "metadata": {},
   "outputs": [
    {
     "name": "stdout",
     "output_type": "stream",
     "text": [
      "0학생은 합격입니다\n",
      "1학생은 합격입니다\n",
      "2학생은 불합격입니다\n",
      "3학생은 합격입니다\n",
      "4학생은 불합격입니다\n"
     ]
    }
   ],
   "source": [
    "for i in range(len(score)):\n",
    "    if score[i]<60:\n",
    "        print(\"%d학생은 불합격입니다\"%i)\n",
    "    else:\n",
    "        print(\"%d학생은 합격입니다\"%i)"
   ]
  },
  {
   "cell_type": "code",
   "execution_count": 140,
   "id": "8dcd9e3a",
   "metadata": {},
   "outputs": [
    {
     "name": "stdout",
     "output_type": "stream",
     "text": [
      "0학생은 합격입니다\n",
      "1학생은 합격입니다\n",
      "3학생은 합격입니다\n"
     ]
    }
   ],
   "source": [
    "for i in range(len(score)):         #이런형태를 훨씬더 많이 쓴다!!!\n",
    "    if score[i]<60:continue\n",
    "    print(\"%d학생은 합격입니다\"%i)"
   ]
  },
  {
   "cell_type": "code",
   "execution_count": 118,
   "id": "c57a2004",
   "metadata": {},
   "outputs": [
    {
     "name": "stdout",
     "output_type": "stream",
     "text": [
      "55\n"
     ]
    }
   ],
   "source": [
    "# 1부터 10까지의 합을 구하라\n",
    "#sum=0\n",
    "#sum=0+1,sum=1\n",
    "#i=2, sum=1+2\n",
    "#i=3, sum=1+2+3\n",
    "#...\n",
    "\n",
    "sum=0\n",
    "for i in range(1,11):   #1이상 11미만\n",
    "    sum=sum+i\n",
    "print(sum)"
   ]
  },
  {
   "cell_type": "code",
   "execution_count": 116,
   "id": "48b2f8d2",
   "metadata": {},
   "outputs": [
    {
     "data": {
      "text/plain": [
       "range(0, 10)"
      ]
     },
     "execution_count": 116,
     "metadata": {},
     "output_type": "execute_result"
    }
   ],
   "source": [
    "range(10)"
   ]
  },
  {
   "cell_type": "code",
   "execution_count": 117,
   "id": "ee810896",
   "metadata": {},
   "outputs": [
    {
     "name": "stdout",
     "output_type": "stream",
     "text": [
      "0\n",
      "1\n",
      "2\n",
      "3\n",
      "4\n",
      "5\n",
      "6\n",
      "7\n",
      "8\n",
      "9\n"
     ]
    }
   ],
   "source": [
    "for i in range(10):\n",
    "    print(i)"
   ]
  },
  {
   "cell_type": "code",
   "execution_count": 121,
   "id": "436f8395",
   "metadata": {},
   "outputs": [
    {
     "name": "stdout",
     "output_type": "stream",
     "text": [
      "5005\n"
     ]
    }
   ],
   "source": [
    "#10부터 100까지 더해보세요\n",
    "\n",
    "sum=0\n",
    "for i in range(10,101):   #10이상 101미만\n",
    "    sum=sum+i\n",
    "print(sum)"
   ]
  },
  {
   "cell_type": "code",
   "execution_count": 126,
   "id": "815df8c2",
   "metadata": {},
   "outputs": [
    {
     "name": "stdout",
     "output_type": "stream",
     "text": [
      "2\n",
      "3\n",
      "4\n",
      "5\n",
      "6\n",
      "7\n",
      "8\n",
      "9\n",
      "1\n",
      "2\n",
      "3\n",
      "4\n",
      "5\n",
      "6\n",
      "7\n",
      "8\n",
      "9\n"
     ]
    }
   ],
   "source": [
    "for i in range(2,10):   #8번 찍힘\n",
    "    print(i)\n",
    "for j in range(1,10):   #9번 찍힘\n",
    "    print(j)"
   ]
  },
  {
   "cell_type": "code",
   "execution_count": 133,
   "id": "2adb7d59",
   "metadata": {},
   "outputs": [
    {
     "name": "stdout",
     "output_type": "stream",
     "text": [
      "2x1=2\n",
      "2x2=4\n",
      "2x3=6\n",
      "2x4=8\n",
      "2x5=10\n",
      "2x6=12\n",
      "2x7=14\n",
      "2x8=16\n",
      "2x9=18\n",
      "3x1=3\n",
      "3x2=6\n",
      "3x3=9\n",
      "3x4=12\n",
      "3x5=15\n",
      "3x6=18\n",
      "3x7=21\n",
      "3x8=24\n",
      "3x9=27\n",
      "4x1=4\n",
      "4x2=8\n",
      "4x3=12\n",
      "4x4=16\n",
      "4x5=20\n",
      "4x6=24\n",
      "4x7=28\n",
      "4x8=32\n",
      "4x9=36\n",
      "5x1=5\n",
      "5x2=10\n",
      "5x3=15\n",
      "5x4=20\n",
      "5x5=25\n",
      "5x6=30\n",
      "5x7=35\n",
      "5x8=40\n",
      "5x9=45\n",
      "6x1=6\n",
      "6x2=12\n",
      "6x3=18\n",
      "6x4=24\n",
      "6x5=30\n",
      "6x6=36\n",
      "6x7=42\n",
      "6x8=48\n",
      "6x9=54\n",
      "7x1=7\n",
      "7x2=14\n",
      "7x3=21\n",
      "7x4=28\n",
      "7x5=35\n",
      "7x6=42\n",
      "7x7=49\n",
      "7x8=56\n",
      "7x9=63\n",
      "8x1=8\n",
      "8x2=16\n",
      "8x3=24\n",
      "8x4=32\n",
      "8x5=40\n",
      "8x6=48\n",
      "8x7=56\n",
      "8x8=64\n",
      "8x9=72\n",
      "9x1=9\n",
      "9x2=18\n",
      "9x3=27\n",
      "9x4=36\n",
      "9x5=45\n",
      "9x6=54\n",
      "9x7=63\n",
      "9x8=72\n",
      "9x9=81\n"
     ]
    }
   ],
   "source": [
    "for i in range(2,10):         #8*9,총 72번 찍힌다.\n",
    "    for j in range(1,10):\n",
    "        print(\"%dx%d=%d\"%(i,j,i*j))"
   ]
  },
  {
   "cell_type": "code",
   "execution_count": 134,
   "id": "f6003bc9",
   "metadata": {},
   "outputs": [
    {
     "name": "stdout",
     "output_type": "stream",
     "text": [
      "2   4   6   8   10   12   14   16   18   \n",
      "3   6   9   12   15   18   21   24   27   \n",
      "4   8   12   16   20   24   28   32   36   \n",
      "5   10   15   20   25   30   35   40   45   \n",
      "6   12   18   24   30   36   42   48   54   \n",
      "7   14   21   28   35   42   49   56   63   \n",
      "8   16   24   32   40   48   56   64   72   \n",
      "9   18   27   36   45   54   63   72   81   \n"
     ]
    }
   ],
   "source": [
    "for i in range(2,10):\n",
    "    for j in range(1,10):\n",
    "        print(i*j,end=\"   \")\n",
    "    print('')"
   ]
  },
  {
   "cell_type": "code",
   "execution_count": 137,
   "id": "f9ac9eb5",
   "metadata": {},
   "outputs": [
    {
     "name": "stdout",
     "output_type": "stream",
     "text": [
      "2x1=2\n",
      "2x2=4\n",
      "2x3=6\n",
      "2x4=8\n",
      "2x5=10\n",
      "2x6=12\n",
      "2x7=14\n",
      "2x8=16\n",
      "2x9=18\n",
      "4x1=4\n",
      "4x2=8\n",
      "4x3=12\n",
      "4x4=16\n",
      "4x5=20\n",
      "4x6=24\n",
      "4x7=28\n",
      "4x8=32\n",
      "4x9=36\n",
      "6x1=6\n",
      "6x2=12\n",
      "6x3=18\n",
      "6x4=24\n",
      "6x5=30\n",
      "6x6=36\n",
      "6x7=42\n",
      "6x8=48\n",
      "6x9=54\n",
      "8x1=8\n",
      "8x2=16\n",
      "8x3=24\n",
      "8x4=32\n",
      "8x5=40\n",
      "8x6=48\n",
      "8x7=56\n",
      "8x8=64\n",
      "8x9=72\n"
     ]
    }
   ],
   "source": [
    "for i in range(2,10):         \n",
    "    if i%2: continue     #짝수만!\n",
    "    for j in range(1,10):\n",
    "        print(\"%dx%d=%d\"%(i,j,i*j))"
   ]
  },
  {
   "cell_type": "code",
   "execution_count": null,
   "id": "79fe966d",
   "metadata": {},
   "outputs": [],
   "source": []
  }
 ],
 "metadata": {
  "kernelspec": {
   "display_name": "Python 3 (ipykernel)",
   "language": "python",
   "name": "python3"
  },
  "language_info": {
   "codemirror_mode": {
    "name": "ipython",
    "version": 3
   },
   "file_extension": ".py",
   "mimetype": "text/x-python",
   "name": "python",
   "nbconvert_exporter": "python",
   "pygments_lexer": "ipython3",
   "version": "3.9.7"
  }
 },
 "nbformat": 4,
 "nbformat_minor": 5
}
