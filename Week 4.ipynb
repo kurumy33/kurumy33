{
 "cells": [
  {
   "cell_type": "code",
   "execution_count": 43,
   "id": "7818f57b",
   "metadata": {},
   "outputs": [
    {
     "name": "stdout",
     "output_type": "stream",
     "text": [
      "PASS\n",
      "PASS\n",
      "PASS\n",
      "Failed\n",
      "PASS\n"
     ]
    }
   ],
   "source": [
    "score=[65, 80, 75, 55, 90]\n",
    "\n",
    "for i in score:\n",
    "    if i>=60:\n",
    "        print(\"PASSing\")\n",
    "    else:\n",
    "        print(\"Failed\")"
   ]
  },
  {
   "cell_type": "code",
   "execution_count": 42,
   "id": "e3bb740f",
   "metadata": {},
   "outputs": [
    {
     "name": "stdout",
     "output_type": "stream",
     "text": [
      "[1, 0, 1, 0, 1, 1, 1, 0, 0, 0, 1, 0]\n"
     ]
    }
   ],
   "source": [
    "data1=[\"Cat\", \"Dog\", \"cat\", \"dog\", \"cat\", \"cat\", \"Cat\", \"Dog\", \"dog\", \"Dog\", \"cat\", \"Dog\"]\n",
    "\n",
    "dic_1={\"cat\":1, \"dog\":0, \"Cat\":1, \"Dog\":0}\n",
    "\n",
    "data2=[dic_1[key] for key in data1]\n",
    "print(data2)"
   ]
  },
  {
   "cell_type": "code",
   "execution_count": null,
   "id": "02427466",
   "metadata": {},
   "outputs": [],
   "source": []
  }
 ],
 "metadata": {
  "kernelspec": {
   "display_name": "Python 3 (ipykernel)",
   "language": "python",
   "name": "python3"
  },
  "language_info": {
   "codemirror_mode": {
    "name": "ipython",
    "version": 3
   },
   "file_extension": ".py",
   "mimetype": "text/x-python",
   "name": "python",
   "nbconvert_exporter": "python",
   "pygments_lexer": "ipython3",
   "version": "3.9.7"
  }
 },
 "nbformat": 4,
 "nbformat_minor": 5
}
