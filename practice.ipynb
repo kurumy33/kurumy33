{
 "cells": [
  {
   "cell_type": "code",
   "execution_count": 41,
   "id": "9a0c0518",
   "metadata": {},
   "outputs": [
    {
     "name": "stdout",
     "output_type": "stream",
     "text": [
      "['1.png', '10.jpg', '2.jpg', '3.png']\n",
      "['1.png', '10.jpg', '2.jpg', '3.png']\n",
      "['1.png', '10.jpg', '2.jpg', '3.png']\n"
     ]
    }
   ],
   "source": [
    "# 1번 문제\n",
    "files=['font','1.png','10.jpg','11.gif','2.jpg','3.png']\n",
    "\n",
    "print(list(filter(lambda x:x.find('.jpg')!=-1 or x.find('.png')!=-1,files)))\n",
    "print(list(filter(lambda x:x.endswith('.jpg') or x.endswith('.png'),files)))\n",
    "print([x for x in files if x.endswith('.jpg') or x.endswith('.png')])"
   ]
  },
  {
   "cell_type": "code",
   "execution_count": 40,
   "id": "1184bdd7",
   "metadata": {},
   "outputs": [
    {
     "name": "stdout",
     "output_type": "stream",
     "text": [
      "['alpha', 'bravo', 'delta', 'hotel', 'india']\n"
     ]
    }
   ],
   "source": [
    "# 2번 문제\n",
    "a=['alpha','bravo','charlie','delta','echo','foxtrot','golf','hotel','india']\n",
    "\n",
    "b=[i for i in a if len(i)==5]\n",
    "print(b)\n"
   ]
  },
  {
   "cell_type": "code",
   "execution_count": 42,
   "id": "104a3788",
   "metadata": {},
   "outputs": [
    {
     "name": "stdout",
     "output_type": "stream",
     "text": [
      "python.exe\n"
     ]
    }
   ],
   "source": [
    "# 3번 문제\n",
    "path = 'C:\\\\Users\\\\kurum\\\\Documents\\\\MB PRICE\\\\SJKIM_202110\\\\기존견적서\\\\python.exe'\n",
    "\n",
    "x=path.split('\\\\')\n",
    "filename=x[-1]\n",
    "print(filename)"
   ]
  },
  {
   "cell_type": "code",
   "execution_count": 43,
   "id": "4c31f4d8",
   "metadata": {},
   "outputs": [
    {
     "name": "stdout",
     "output_type": "stream",
     "text": [
      "문자열을 입력하시오: ㅁㄴㅇ3ㅇㅊ\n",
      "{'ㅁ': 1, 'ㄴ': 1, 'ㅇ': 2, '3': 1, 'ㅊ': 1}\n"
     ]
    }
   ],
   "source": [
    "# 4번 문제\n",
    "string=input(\"문자열을 입력하시오: \")\n",
    "counttable={}\n",
    "\n",
    "for letter in string:\n",
    "    counttable[letter]=counttable.get(letter,0)+1\n",
    "print(counttable)"
   ]
  },
  {
   "cell_type": "code",
   "execution_count": null,
   "id": "35174be5",
   "metadata": {},
   "outputs": [],
   "source": [
    "# 5번 문제\n",
    "phrase=input(\"문자열을 입력하시오 : \")\n",
    "acronym=\" \"\n",
    "\n",
    "for word in phrase.upper().split():\n",
    "    acronym+=word[0]\n",
    "print(acronym)"
   ]
  },
  {
   "cell_type": "code",
   "execution_count": 18,
   "id": "ff659cff",
   "metadata": {},
   "outputs": [
    {
     "name": "stdout",
     "output_type": "stream",
     "text": [
      "문자열을 입력하시오: a picture is worth a thousand words.\n",
      "{'alphas': 29, 'digit': 0, 'spaces': 6}\n"
     ]
    }
   ],
   "source": [
    "# 6번 문제\n",
    "sentence=input(\"문자열을 입력하시오: \")\n",
    "table={\"alphas\":0,\"digit\":0,\"spaces\":0}\n",
    "\n",
    "for i in sentence:\n",
    "    if i.isalpha():\n",
    "        table[\"alphas\"]+=1\n",
    "    if i.isdigit():\n",
    "        table[\"digit\"]+=1\n",
    "    if i.isspace():\n",
    "        table[\"spaces\"]+=1\n",
    "print(table)"
   ]
  },
  {
   "cell_type": "code",
   "execution_count": 19,
   "id": "f7879d1d",
   "metadata": {},
   "outputs": [],
   "source": [
    "# 7번 문제 -the 갯수찾기\n",
    "text=\"the 3efdkljgpwejkf thepojekj;lgkd; the ektjektjgmcvjmd;\"\n",
    "\n",
    "cnt=0\n",
    "for word in text.split():\n",
    "    if word.strip(',.')=='the':\n",
    "        cnt+=1\n",
    "print(cnt)"
   ]
  },
  {
   "cell_type": "code",
   "execution_count": 22,
   "id": "6a504957",
   "metadata": {},
   "outputs": [
    {
     "name": "stdout",
     "output_type": "stream",
     "text": [
      "{'A': 1, 'p': 2, 'l': 1, 'e': 1}\n"
     ]
    }
   ],
   "source": [
    "#8.1 알파벳 갯수 세기\n",
    "word=\"Apple\"\n",
    "d={letter:word.count(letter) for letter in word}\n",
    "print(d)"
   ]
  },
  {
   "cell_type": "code",
   "execution_count": 29,
   "id": "789f510f",
   "metadata": {},
   "outputs": [
    {
     "ename": "AttributeError",
     "evalue": "'set' object has no attribute 'items'",
     "output_type": "error",
     "traceback": [
      "\u001b[1;31m---------------------------------------------------------------------------\u001b[0m",
      "\u001b[1;31mAttributeError\u001b[0m                            Traceback (most recent call last)",
      "\u001b[1;32m~\\AppData\\Local\\Temp/ipykernel_1460/3867900313.py\u001b[0m in \u001b[0;36m<module>\u001b[1;34m\u001b[0m\n\u001b[0;32m      1\u001b[0m \u001b[1;31m# 8.2 email 부분만 소문자로 변경하시오\u001b[0m\u001b[1;33m\u001b[0m\u001b[1;33m\u001b[0m\u001b[0m\n\u001b[0;32m      2\u001b[0m \u001b[0md\u001b[0m\u001b[1;33m=\u001b[0m\u001b[1;33m{\u001b[0m\u001b[1;34m'JOHN'\u001b[0m\u001b[1;33m,\u001b[0m\u001b[1;34m'JOHN@GAMIL.COM'\u001b[0m\u001b[1;33m,\u001b[0m\u001b[1;34m'tom'\u001b[0m\u001b[1;33m,\u001b[0m\u001b[1;34m'Tom@Gmail.com'\u001b[0m\u001b[1;33m}\u001b[0m\u001b[1;33m\u001b[0m\u001b[1;33m\u001b[0m\u001b[0m\n\u001b[1;32m----> 3\u001b[1;33m \u001b[0moutput\u001b[0m \u001b[1;33m=\u001b[0m \u001b[1;33m{\u001b[0m\u001b[0mk\u001b[0m\u001b[1;33m.\u001b[0m\u001b[0mcapitalize\u001b[0m\u001b[1;33m(\u001b[0m\u001b[1;33m)\u001b[0m\u001b[1;33m:\u001b[0m\u001b[0mv\u001b[0m\u001b[1;33m.\u001b[0m\u001b[0mlower\u001b[0m\u001b[1;33m(\u001b[0m\u001b[1;33m)\u001b[0m \u001b[1;32mfor\u001b[0m \u001b[0mk\u001b[0m\u001b[1;33m,\u001b[0m\u001b[0mv\u001b[0m \u001b[1;32min\u001b[0m \u001b[0md\u001b[0m\u001b[1;33m.\u001b[0m\u001b[0mitems\u001b[0m\u001b[1;33m(\u001b[0m\u001b[1;33m)\u001b[0m\u001b[1;33m}\u001b[0m\u001b[1;33m\u001b[0m\u001b[1;33m\u001b[0m\u001b[0m\n\u001b[0m\u001b[0;32m      4\u001b[0m \u001b[0mprint\u001b[0m\u001b[1;33m(\u001b[0m\u001b[0moutput\u001b[0m\u001b[1;33m)\u001b[0m\u001b[1;33m\u001b[0m\u001b[1;33m\u001b[0m\u001b[0m\n",
      "\u001b[1;31mAttributeError\u001b[0m: 'set' object has no attribute 'items'"
     ]
    }
   ],
   "source": [
    "# 8.2 email 부분만 소문자로 변경하시오\n",
    "d={'JOHN','JOHN@GAMIL.COM','tom','Tom@Gmail.com'}\n",
    "output={k.capitalize():v.lower() for k,v in d.items()}\n",
    "print(output)"
   ]
  },
  {
   "cell_type": "code",
   "execution_count": 34,
   "id": "c4c1a0cc",
   "metadata": {},
   "outputs": [
    {
     "name": "stdout",
     "output_type": "stream",
     "text": [
      "{'lucy': '101', 'kang': '202', 'kim': '303'}\n"
     ]
    }
   ],
   "source": [
    "# 9번 zip()과 dict()를 이용하여 dictionary로 변경해보시오\n",
    "\n",
    "a=[\"lucy\",\"kang\",\"kim\"]\n",
    "b=[\"101\",\"202\",\"303\"]\n",
    "ab=zip(a,b)\n",
    "dab=dict(ab)\n",
    "print(dab)"
   ]
  },
  {
   "cell_type": "code",
   "execution_count": 38,
   "id": "798b2d5e",
   "metadata": {},
   "outputs": [],
   "source": [
    "# 문제 2\n",
    "\n",
    "phone={\"윤승식\",\"010-3348-2859\",\"허준\",\"010-3498-0090\",\"신민철\",\"010-4445-0987\"}\n",
    "def contact_search(txt,phone):\n",
    "    ans=[]\n",
    "    for key,value in phone.items():\n",
    "        if txt in key:\n",
    "            ans.append(value)\n",
    "    return"
   ]
  },
  {
   "cell_type": "code",
   "execution_count": 39,
   "id": "6541cf37",
   "metadata": {},
   "outputs": [
    {
     "ename": "AttributeError",
     "evalue": "'set' object has no attribute 'items'",
     "output_type": "error",
     "traceback": [
      "\u001b[1;31m---------------------------------------------------------------------------\u001b[0m",
      "\u001b[1;31mAttributeError\u001b[0m                            Traceback (most recent call last)",
      "\u001b[1;32m~\\AppData\\Local\\Temp/ipykernel_1460/2579888355.py\u001b[0m in \u001b[0;36m<module>\u001b[1;34m\u001b[0m\n\u001b[1;32m----> 1\u001b[1;33m \u001b[0mprint\u001b[0m\u001b[1;33m(\u001b[0m\u001b[0mcontact_search\u001b[0m\u001b[1;33m(\u001b[0m\u001b[1;34m\"준\"\u001b[0m\u001b[1;33m,\u001b[0m\u001b[0mphone\u001b[0m\u001b[1;33m)\u001b[0m\u001b[1;33m)\u001b[0m\u001b[1;33m\u001b[0m\u001b[1;33m\u001b[0m\u001b[0m\n\u001b[0m\u001b[0;32m      2\u001b[0m \u001b[0mprint\u001b[0m\u001b[1;33m(\u001b[0m\u001b[0mcontact_search\u001b[0m\u001b[1;33m(\u001b[0m\u001b[1;34m\"철\"\u001b[0m\u001b[1;33m,\u001b[0m\u001b[0mphone\u001b[0m\u001b[1;33m)\u001b[0m\u001b[1;33m)\u001b[0m\u001b[1;33m\u001b[0m\u001b[1;33m\u001b[0m\u001b[0m\n\u001b[0;32m      3\u001b[0m \u001b[0mprint\u001b[0m\u001b[1;33m(\u001b[0m\u001b[0mcontact_search\u001b[0m\u001b[1;33m(\u001b[0m\u001b[1;34m\"윤\"\u001b[0m\u001b[1;33m,\u001b[0m\u001b[0mphone\u001b[0m\u001b[1;33m)\u001b[0m\u001b[1;33m)\u001b[0m\u001b[1;33m\u001b[0m\u001b[1;33m\u001b[0m\u001b[0m\n",
      "\u001b[1;32m~\\AppData\\Local\\Temp/ipykernel_1460/1942101976.py\u001b[0m in \u001b[0;36mcontact_search\u001b[1;34m(txt, phone)\u001b[0m\n\u001b[0;32m      4\u001b[0m \u001b[1;32mdef\u001b[0m \u001b[0mcontact_search\u001b[0m\u001b[1;33m(\u001b[0m\u001b[0mtxt\u001b[0m\u001b[1;33m,\u001b[0m\u001b[0mphone\u001b[0m\u001b[1;33m)\u001b[0m\u001b[1;33m:\u001b[0m\u001b[1;33m\u001b[0m\u001b[1;33m\u001b[0m\u001b[0m\n\u001b[0;32m      5\u001b[0m     \u001b[0mans\u001b[0m\u001b[1;33m=\u001b[0m\u001b[1;33m[\u001b[0m\u001b[1;33m]\u001b[0m\u001b[1;33m\u001b[0m\u001b[1;33m\u001b[0m\u001b[0m\n\u001b[1;32m----> 6\u001b[1;33m     \u001b[1;32mfor\u001b[0m \u001b[0mkey\u001b[0m\u001b[1;33m,\u001b[0m\u001b[0mvalue\u001b[0m \u001b[1;32min\u001b[0m \u001b[0mphone\u001b[0m\u001b[1;33m.\u001b[0m\u001b[0mitems\u001b[0m\u001b[1;33m(\u001b[0m\u001b[1;33m)\u001b[0m\u001b[1;33m:\u001b[0m\u001b[1;33m\u001b[0m\u001b[1;33m\u001b[0m\u001b[0m\n\u001b[0m\u001b[0;32m      7\u001b[0m         \u001b[1;32mif\u001b[0m \u001b[0mtxt\u001b[0m \u001b[1;32min\u001b[0m \u001b[0mkey\u001b[0m\u001b[1;33m:\u001b[0m\u001b[1;33m\u001b[0m\u001b[1;33m\u001b[0m\u001b[0m\n\u001b[0;32m      8\u001b[0m             \u001b[0mans\u001b[0m\u001b[1;33m.\u001b[0m\u001b[0mappend\u001b[0m\u001b[1;33m(\u001b[0m\u001b[0mvalue\u001b[0m\u001b[1;33m)\u001b[0m\u001b[1;33m\u001b[0m\u001b[1;33m\u001b[0m\u001b[0m\n",
      "\u001b[1;31mAttributeError\u001b[0m: 'set' object has no attribute 'items'"
     ]
    }
   ],
   "source": [
    "print(contact_search(\"준\",phone))\n",
    "print(contact_search(\"철\",phone))\n",
    "print(contact_search(\"윤\",phone))"
   ]
  }
 ],
 "metadata": {
  "kernelspec": {
   "display_name": "Python 3 (ipykernel)",
   "language": "python",
   "name": "python3"
  },
  "language_info": {
   "codemirror_mode": {
    "name": "ipython",
    "version": 3
   },
   "file_extension": ".py",
   "mimetype": "text/x-python",
   "name": "python",
   "nbconvert_exporter": "python",
   "pygments_lexer": "ipython3",
   "version": "3.9.7"
  }
 },
 "nbformat": 4,
 "nbformat_minor": 5
}
