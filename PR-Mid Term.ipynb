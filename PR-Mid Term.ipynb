{
 "cells": [
  {
   "cell_type": "code",
   "execution_count": 2,
   "id": "3483a552",
   "metadata": {},
   "outputs": [],
   "source": [
    "# 이 부분은 건드리지 말것\n",
    "files = ['font', '1.png', '10.jpg', '11.gif', '2.jpg', '3.png', 'table.xslx', 'spec.docx']\n",
    " \n",
    "# 풀이\n",
    "print(list(filter(lambda x: x.find('.jpg') != -1 or x.find('.png') != -1, files)))\n",
    "print(list(filter(lambda x: x.endswith('.jpg') or x.endswith('.png'), files))) #endswith를 사용\n",
    "print([x for x in files if x.endswith('.jpg') or x.endswith('.png')]) #list comprehension 사용"
   ]
  },
  {
   "cell_type": "code",
   "execution_count": 10,
   "id": "541fa005",
   "metadata": {},
   "outputs": [],
   "source": [
    "def check5(txt):\n",
    "    for i in txt:\n",
    "        first = input(\"%s: \" %i)\n",
    "        if first[0] != i:\n",
    "            return False\n",
    "    return True"
   ]
  },
  {
   "cell_type": "code",
   "execution_count": 11,
   "id": "dee199b3",
   "metadata": {},
   "outputs": [],
   "source": [
    "def kickboard():\n",
    "    dist = input(\"가야하는 거리를 입력하시오(km): \")\n",
    "    wang = input(\"왕복여부를 입력하시오(Y/N): \")\n",
    "    if wang.upper() == \"Y\":\n",
    "        wang=2\n",
    "    else:\n",
    "        wang=1\n",
    "        \n",
    "    if float(dist)*wang > 30:\n",
    "        print(\"킥보드로 갈 수 없습니다.\")\n",
    "        return None\n",
    "    else:\n",
    "        return float(dist)*wang*6/30"
   ]
  },
  {
   "cell_type": "code",
   "execution_count": null,
   "id": "e9de1d80",
   "metadata": {},
   "outputs": [],
   "source": [
    "kickboard()"
   ]
  },
  {
   "cell_type": "code",
   "execution_count": null,
   "id": "78ad7c01",
   "metadata": {},
   "outputs": [],
   "source": []
  }
 ],
 "metadata": {
  "kernelspec": {
   "display_name": "Python 3 (ipykernel)",
   "language": "python",
   "name": "python3"
  },
  "language_info": {
   "codemirror_mode": {
    "name": "ipython",
    "version": 3
   },
   "file_extension": ".py",
   "mimetype": "text/x-python",
   "name": "python",
   "nbconvert_exporter": "python",
   "pygments_lexer": "ipython3",
   "version": "3.9.7"
  }
 },
 "nbformat": 4,
 "nbformat_minor": 5
}
