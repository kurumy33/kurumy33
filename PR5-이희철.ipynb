{
 "cells": [
  {
   "cell_type": "code",
   "execution_count": 1,
   "id": "d210ba4b",
   "metadata": {},
   "outputs": [
    {
     "name": "stdout",
     "output_type": "stream",
     "text": [
      "1. [2, 3]\n",
      "2. [0, 1, 1]\n"
     ]
    }
   ],
   "source": [
    "# b_test 함수정의\n",
    "def b_test(eggs):\n",
    "    eggs.append(1)\n",
    "    eggs=[2,3]         # 새로운값을 대입하기 전까지 메모리 공유한다.\n",
    "    print(\"1.\",eggs)\n",
    "    \n",
    "#함수 사용\n",
    "ham=[0,1]\n",
    "b_test(ham)            #ham은 원래 eggs에 1을 추가한거를 받음\n",
    "print(\"2.\",ham)"
   ]
  },
  {
   "cell_type": "code",
   "execution_count": 8,
   "id": "3e46e3f1",
   "metadata": {},
   "outputs": [
    {
     "name": "stdout",
     "output_type": "stream",
     "text": [
      "1. 20\n",
      "4. 30\n",
      "2. 10\n"
     ]
    },
    {
     "ename": "NameError",
     "evalue": "name 't' is not defined",
     "output_type": "error",
     "traceback": [
      "\u001b[1;31m---------------------------------------------------------------------------\u001b[0m",
      "\u001b[1;31mNameError\u001b[0m                                 Traceback (most recent call last)",
      "\u001b[1;32m~\\AppData\\Local\\Temp/ipykernel_11296/1565778484.py\u001b[0m in \u001b[0;36m<module>\u001b[1;34m\u001b[0m\n\u001b[0;32m      8\u001b[0m \u001b[0mtest\u001b[0m\u001b[1;33m(\u001b[0m\u001b[0mx\u001b[0m\u001b[1;33m)\u001b[0m\u001b[1;33m\u001b[0m\u001b[1;33m\u001b[0m\u001b[0m\n\u001b[0;32m      9\u001b[0m \u001b[0mprint\u001b[0m\u001b[1;33m(\u001b[0m\u001b[1;34m\"2.\"\u001b[0m\u001b[1;33m,\u001b[0m\u001b[0mx\u001b[0m\u001b[1;33m)\u001b[0m\u001b[1;33m\u001b[0m\u001b[1;33m\u001b[0m\u001b[0m\n\u001b[1;32m---> 10\u001b[1;33m \u001b[0mprint\u001b[0m\u001b[1;33m(\u001b[0m\u001b[1;34m\"3.\"\u001b[0m\u001b[1;33m,\u001b[0m\u001b[0mt\u001b[0m\u001b[1;33m)\u001b[0m   \u001b[1;31m#t는 함수 안에만 존재하므로 에러발생!\u001b[0m\u001b[1;33m\u001b[0m\u001b[1;33m\u001b[0m\u001b[0m\n\u001b[0m",
      "\u001b[1;31mNameError\u001b[0m: name 't' is not defined"
     ]
    }
   ],
   "source": [
    "def test(t):\n",
    "    t=20\n",
    "    print(\"1.\",t)\n",
    "    x=30\n",
    "    print(\"4.\",x)\n",
    "    \n",
    "x=10\n",
    "test(x)\n",
    "print(\"2.\",x)\n",
    "print(\"3.\",t)   #t는 함수 안에만 존재하므로 에러발생!"
   ]
  },
  {
   "cell_type": "code",
   "execution_count": 11,
   "id": "12c014f4",
   "metadata": {},
   "outputs": [
    {
     "name": "stdout",
     "output_type": "stream",
     "text": [
      "-10\n",
      "10\n"
     ]
    }
   ],
   "source": [
    "def c_test(x,y):\n",
    "    return x-y\n",
    "x=20\n",
    "y=30\n",
    "print(c_test(20,30))\n",
    "print(c_test(y=20,x=30))"
   ]
  },
  {
   "cell_type": "code",
   "execution_count": 14,
   "id": "da0e1e92",
   "metadata": {},
   "outputs": [
    {
     "name": "stdout",
     "output_type": "stream",
     "text": [
      "-10\n",
      "10\n",
      "10\n",
      "-10\n"
     ]
    }
   ],
   "source": [
    "def c_test(x,y=0):\n",
    "    return x-y\n",
    "x=20\n",
    "y=30\n",
    "print(c_test(20,30))\n",
    "print(c_test(y=20,x=30))\n",
    "print(c_test(10))\n",
    "print(c_test(10,20))"
   ]
  },
  {
   "cell_type": "code",
   "execution_count": 24,
   "id": "6015952e",
   "metadata": {},
   "outputs": [
    {
     "name": "stdout",
     "output_type": "stream",
     "text": [
      "1\n",
      "(2, 3, 4)\n",
      "2 3 4\n",
      "9\n",
      "1\n",
      "(2,)\n",
      "2\n",
      "2\n",
      "1\n",
      "(2, 3)\n",
      "2 3\n",
      "5\n",
      "1\n",
      "(2, 3, 4)\n",
      "2 3 4\n",
      "9\n"
     ]
    }
   ],
   "source": [
    "# * <-unpacking 연산자 : 묶운걸 풀어준다.\n",
    "\n",
    "def d_test(a,*args):\n",
    "    print(a)\n",
    "    print(args)\n",
    "    print(*args)\n",
    "    print(sum(args))\n",
    "    \n",
    "d_test(1,2,3,4)\n",
    "d_test(1,2)\n",
    "d_test(1,2,3)\n",
    "d_test(1,2,3,4)"
   ]
  },
  {
   "cell_type": "code",
   "execution_count": 29,
   "id": "1de6e6f5",
   "metadata": {},
   "outputs": [
    {
     "name": "stdout",
     "output_type": "stream",
     "text": [
      "{'a': 1, 'b': 2, 'c': 3}\n",
      "a b c\n",
      "dict_values([1, 2, 3])\n",
      "{'x': 100, 'y': 200}\n",
      "x y\n",
      "dict_values([100, 200])\n",
      "{'k1': 10, 'k2': 30, 'k3': 40, 'k4': 50}\n",
      "k1 k2 k3 k4\n",
      "dict_values([10, 30, 40, 50])\n"
     ]
    }
   ],
   "source": [
    "# ** <-키워드 가변인수\n",
    "def e_test(**kwargs):\n",
    "    print(kwargs)\n",
    "    print(*kwargs)\n",
    "    print(kwargs.values())\n",
    "\n",
    "    \n",
    "e_test(a=1,b=2,c=3)\n",
    "e_test(x=100,y=200)\n",
    "e_test(k1=10,k2=30,k3=40,k4=50)"
   ]
  },
  {
   "cell_type": "code",
   "execution_count": null,
   "id": "26daed37",
   "metadata": {},
   "outputs": [],
   "source": []
  }
 ],
 "metadata": {
  "kernelspec": {
   "display_name": "Python 3 (ipykernel)",
   "language": "python",
   "name": "python3"
  },
  "language_info": {
   "codemirror_mode": {
    "name": "ipython",
    "version": 3
   },
   "file_extension": ".py",
   "mimetype": "text/x-python",
   "name": "python",
   "nbconvert_exporter": "python",
   "pygments_lexer": "ipython3",
   "version": "3.9.7"
  }
 },
 "nbformat": 4,
 "nbformat_minor": 5
}
