{
 "cells": [
  {
   "cell_type": "code",
   "execution_count": 1,
   "id": "56b18ee6",
   "metadata": {},
   "outputs": [
    {
     "name": "stdout",
     "output_type": "stream",
     "text": [
      "[1, 2, 3]\n",
      "1 2 3\n"
     ]
    }
   ],
   "source": [
    "# 패킹과 언패킹\n",
    "\n",
    "\n",
    "t=[1,2,3]\n",
    "a,b,c=t\n",
    "print(t)\n",
    "print(a,b,c)"
   ]
  },
  {
   "cell_type": "code",
   "execution_count": null,
   "id": "e1980ef1",
   "metadata": {},
   "outputs": [],
   "source": [
    "# 함수의 선언\n",
    "# def 함수이름(매개변수~)\n",
    "\n",
    "# 함수이름 소문자, 띄어쓰기는 언더바(_), 동사+명사형태, 짧고 명료한 이름사용"
   ]
  },
  {
   "cell_type": "code",
   "execution_count": 6,
   "id": "be0f1645",
   "metadata": {},
   "outputs": [
    {
     "name": "stdout",
     "output_type": "stream",
     "text": [
      "600\n",
      "200\n"
     ]
    }
   ],
   "source": [
    "def cal_rec(x,y):\n",
    "    z=x*y\n",
    "    return z\n",
    "print(cal_rec(20,30))\n",
    "\n",
    "a=10\n",
    "b=20\n",
    "k=cal_rec(a,b)\n",
    "print(k)\n",
    "\n"
   ]
  },
  {
   "cell_type": "code",
   "execution_count": 22,
   "id": "c4477c5d",
   "metadata": {},
   "outputs": [],
   "source": [
    "# 변수의 사용 범위 : 변수가 코드에서 사용되는 범위\n",
    "# 지역변수 : 함수 안에서만 사용\n",
    "# 전역변수 : 프로그램 전체에서 사용"
   ]
  },
  {
   "cell_type": "code",
   "execution_count": 24,
   "id": "d6e3271d",
   "metadata": {},
   "outputs": [
    {
     "name": "stdout",
     "output_type": "stream",
     "text": [
      "inside 30\n",
      "300\n",
      "50\n"
     ]
    }
   ],
   "source": [
    "def cal_rec2(x,y):\n",
    "    print(\"inside\",x)   #요기서의 x는 지역변수\n",
    "    print(x*y)\n",
    "x=50                    #요기서의 x는 전역변수\n",
    "cal_rec2(30,10)\n",
    "print(x)"
   ]
  },
  {
   "cell_type": "code",
   "execution_count": 27,
   "id": "94a7eee2",
   "metadata": {},
   "outputs": [
    {
     "name": "stdout",
     "output_type": "stream",
     "text": [
      "inside 10\n",
      "200\n",
      "50\n"
     ]
    }
   ],
   "source": [
    "def cal_rec2(x,y):\n",
    "    print(\"inside\",x)   #요기서의 x는 지역변수\n",
    "    print(x*y)\n",
    "x=50                    #요기서의 x는 전역변수\n",
    "a=10\n",
    "b=20\n",
    "cal_rec2(a,b)\n",
    "print(x)"
   ]
  },
  {
   "cell_type": "code",
   "execution_count": 28,
   "id": "7be625d4",
   "metadata": {},
   "outputs": [],
   "source": [
    "# call by value : 값만넘김\n",
    "# call by reference : 주소를 넘김\n",
    "\n",
    "#파이썬이 특이한점\n",
    "#call by object reference : 값을 추가할때만 그 값을 사용?  <--효과적인 메모리관리를 위함!!!"
   ]
  },
  {
   "cell_type": "code",
   "execution_count": 31,
   "id": "f56c9b8f",
   "metadata": {},
   "outputs": [
    {
     "name": "stdout",
     "output_type": "stream",
     "text": [
      "[0, 2, 1]\n",
      "[2, 3]\n",
      "[0, 2, 1]\n"
     ]
    }
   ],
   "source": [
    "def spam(x1):\n",
    "    x1.append(1)\n",
    "    print(x1)\n",
    "    x1=[2,3]\n",
    "    print(x1)\n",
    "    \n",
    "y1=[0,2]\n",
    "spam(y1)\n",
    "print(y1)"
   ]
  },
  {
   "cell_type": "code",
   "execution_count": null,
   "id": "bf4a3033",
   "metadata": {},
   "outputs": [],
   "source": []
  }
 ],
 "metadata": {
  "kernelspec": {
   "display_name": "Python 3 (ipykernel)",
   "language": "python",
   "name": "python3"
  },
  "language_info": {
   "codemirror_mode": {
    "name": "ipython",
    "version": 3
   },
   "file_extension": ".py",
   "mimetype": "text/x-python",
   "name": "python",
   "nbconvert_exporter": "python",
   "pygments_lexer": "ipython3",
   "version": "3.9.7"
  }
 },
 "nbformat": 4,
 "nbformat_minor": 5
}
